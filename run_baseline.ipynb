{
 "cells": [
  {
   "cell_type": "code",
   "execution_count": null,
   "metadata": {},
   "outputs": [],
   "source": [
    "import scanpy as sc\n",
    "import pandas as pd\n",
    "from sklearn.metrics import adjusted_mutual_info_score, adjusted_rand_score\n",
    "import matplotlib.pyplot as plt"
   ]
  },
  {
   "cell_type": "code",
   "execution_count": null,
   "metadata": {},
   "outputs": [],
   "source": [
    "adata = sc.read_h5ad('data/gene_sorted_filtered_matrix.h5ad').T\n",
    "barcodes = pd.read_csv('data/barcodes_filtered.tsv', header=None, sep='\\t')\n",
    "genes = pd.read_csv('data/genes.tsv', header=None, sep='\\t')\n",
    "ground_truth_labels = pd.read_csv('data/ground_truth_labels.tsv', sep='\\t')\n"
   ]
  },
  {
   "cell_type": "code",
   "execution_count": null,
   "metadata": {},
   "outputs": [],
   "source": [
    "adata.obs_names = barcodes[0].values\n",
    "adata.var_names = genes[0].values\n",
    "\n",
    "ground_truth_labels = ground_truth_labels.set_index(\"NAME\")  \n",
    "adata.obs['ground_truth_labels'] = adata.obs_names.map(ground_truth_labels[\"New_cellType\"])\n",
    "\n",
    "print(adata.shape)\n",
    "print(barcodes.shape)\n",
    "print(genes.shape)"
   ]
  },
  {
   "cell_type": "code",
   "execution_count": null,
   "metadata": {},
   "outputs": [],
   "source": [
    "sc.pp.filter_cells(adata, min_genes=100)\n",
    "sc.pp.filter_genes(adata, min_cells=3)\n",
    "print(adata.shape)"
   ]
  },
  {
   "cell_type": "code",
   "execution_count": null,
   "metadata": {},
   "outputs": [],
   "source": [
    "sc.pp.normalize_total(adata)\n",
    "sc.pp.log1p(adata)"
   ]
  },
  {
   "cell_type": "code",
   "execution_count": null,
   "metadata": {},
   "outputs": [],
   "source": [
    "sc.tl.pca(adata)\n",
    "sc.pp.neighbors(adata)\n",
    "sc.tl.umap(adata)\n",
    "sc.tl.leiden(adata, flavor=\"igraph\", n_iterations=2)"
   ]
  },
  {
   "cell_type": "code",
   "execution_count": null,
   "metadata": {},
   "outputs": [],
   "source": [
    "fig, ax = plt.subplots(1, 2, figsize=(12, 6))\n",
    "\n",
    "sc.pl.umap(adata, color=\"leiden\", ax=ax[0], title=\"Baseline Cluster Predictions\", show=False)\n",
    "\n",
    "sc.pl.umap(adata, color=\"ground_truth_labels\", ax=ax[1], title=\"Ground Truth Clusters\", show=False)\n",
    "\n",
    "plt.tight_layout()  \n",
    "plt.show()"
   ]
  },
  {
   "cell_type": "code",
   "execution_count": null,
   "metadata": {},
   "outputs": [],
   "source": [
    "ground_truth_labels = adata.obs['ground_truth_labels'].values\n",
    "leiden_labels = adata.obs['leiden'].values\n",
    "\n",
    "ami = adjusted_mutual_info_score(ground_truth_labels, leiden_labels)\n",
    "ari = adjusted_rand_score(ground_truth_labels, leiden_labels)\n",
    "\n",
    "print(\"Adjusted Mutual Information: \", ami)\n",
    "print(\"Adjusted Rand Index: \", ari)\n"
   ]
  }
 ],
 "metadata": {
  "kernelspec": {
   "display_name": "Python 3 (ipykernel)",
   "language": "python",
   "name": "python3"
  },
  "language_info": {
   "codemirror_mode": {
    "name": "ipython",
    "version": 3
   },
   "file_extension": ".py",
   "mimetype": "text/x-python",
   "name": "python",
   "nbconvert_exporter": "python",
   "pygments_lexer": "ipython3",
   "version": "3.11.9"
  }
 },
 "nbformat": 4,
 "nbformat_minor": 4
}
