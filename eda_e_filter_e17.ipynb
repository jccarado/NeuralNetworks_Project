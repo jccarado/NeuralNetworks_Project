{
 "cells": [
  {
   "cell_type": "code",
   "execution_count": 1,
   "metadata": {},
   "outputs": [],
   "source": [
    "import scanpy as sc\n",
    "import pandas as pd"
   ]
  },
  {
   "cell_type": "code",
   "execution_count": 2,
   "metadata": {},
   "outputs": [],
   "source": [
    "counts = sc.read_mtx('data/gene_sorted-matrix.mtx').T\n",
    "barcodes = pd.read_csv('data/barcodes.tsv', header=None, sep='\\t')\n",
    "genes = pd.read_csv('data/genes.tsv', header=None, sep='\\t')\n",
    "metadata = pd.read_csv('data/metaData_scDevSC.txt', sep='\\t', usecols=[\"NAME\", \"New_cellType\"])"
   ]
  },
  {
   "cell_type": "code",
   "execution_count": 3,
   "metadata": {},
   "outputs": [],
   "source": [
    "mask = barcodes[0].str.startswith('E17')"
   ]
  },
  {
   "cell_type": "code",
   "execution_count": 4,
   "metadata": {},
   "outputs": [],
   "source": [
    "barcodes = barcodes[mask]\n",
    "\n",
    "counts = counts[mask.values, :]\n",
    "counts = counts.copy().T\n",
    "\n",
    "metadata = metadata.iloc[1:].reset_index(drop=True)\n",
    "metadata = metadata[mask.values]"
   ]
  },
  {
   "cell_type": "code",
   "execution_count": 6,
   "metadata": {},
   "outputs": [],
   "source": [
    "\n",
    "\n",
    "counts.write(\"data/gene_sorted_filtered_matrix.h5ad\")\n",
    "barcodes.to_csv(\"data/barcodes_filtered.tsv\", header=False, index=False, sep=\"\\t\")\n",
    "metadata.to_csv(\"data/ground_truth_labels.tsv\", index=False, sep=\"\\t\")"
   ]
  }
 ],
 "metadata": {
  "kernelspec": {
   "display_name": "nn_project_env",
   "language": "python",
   "name": "python3"
  },
  "language_info": {
   "codemirror_mode": {
    "name": "ipython",
    "version": 3
   },
   "file_extension": ".py",
   "mimetype": "text/x-python",
   "name": "python",
   "nbconvert_exporter": "python",
   "pygments_lexer": "ipython3",
   "version": "3.13.2"
  }
 },
 "nbformat": 4,
 "nbformat_minor": 2
}
