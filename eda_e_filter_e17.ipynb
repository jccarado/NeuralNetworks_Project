{
 "cells": [
  {
   "cell_type": "code",
   "execution_count": 4,
   "metadata": {},
   "outputs": [],
   "source": [
    "import scanpy as sc\n",
    "import pandas as pd"
   ]
  },
  {
   "cell_type": "code",
   "execution_count": 8,
   "metadata": {},
   "outputs": [],
   "source": [
    "counts = sc.read_mtx('data/gene_sorted-matrix.mtx')\n",
    "counts = counts.T\n",
    "barcodes = pd.read_csv('data/barcodes.tsv', header=None, sep='\\t')\n",
    "genes = pd.read_csv('data/genes.tsv', header=None, sep='\\t')"
   ]
  },
  {
   "cell_type": "code",
   "execution_count": 9,
   "metadata": {},
   "outputs": [],
   "source": [
    "mask = barcodes[0].str.startswith('E17')\n",
    "barcodes = barcodes[mask]\n",
    "counts = counts[mask.values, :]"
   ]
  },
  {
   "cell_type": "code",
   "execution_count": 14,
   "metadata": {},
   "outputs": [],
   "source": [
    "# counts.obs_names = barcodes[0].values\n",
    "# counts.var_names = genes[0].values\n",
    "counts.write('data/gene_sorted_filter-matrix.mtx')\n",
    "barcodes.to_csv('data/barcodes_filtered.tsv', header=False, index=False, sep=' ')"
   ]
  }
 ],
 "metadata": {
  "kernelspec": {
   "display_name": "nn_project_env",
   "language": "python",
   "name": "python3"
  },
  "language_info": {
   "codemirror_mode": {
    "name": "ipython",
    "version": 3
   },
   "file_extension": ".py",
   "mimetype": "text/x-python",
   "name": "python",
   "nbconvert_exporter": "python",
   "pygments_lexer": "ipython3",
   "version": "3.13.2"
  }
 },
 "nbformat": 4,
 "nbformat_minor": 2
}
